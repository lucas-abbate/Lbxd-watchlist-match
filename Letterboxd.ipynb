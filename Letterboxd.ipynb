{
 "nbformat": 4,
 "nbformat_minor": 2,
 "metadata": {
  "colab": {
   "name": "Letterboxd.ipynb",
   "provenance": [],
   "collapsed_sections": [],
   "authorship_tag": "ABX9TyPK4XzstPYEcUaF0B2h681r"
  },
  "kernelspec": {
   "name": "python3",
   "display_name": "Python 3.9.1 64-bit"
  },
  "language_info": {
   "name": "python",
   "version": "3.9.1",
   "mimetype": "text/x-python",
   "codemirror_mode": {
    "name": "ipython",
    "version": 3
   },
   "pygments_lexer": "ipython3",
   "nbconvert_exporter": "python",
   "file_extension": ".py"
  },
  "interpreter": {
   "hash": "ac59ebe37160ed0dfa835113d9b8498d9f09ceb179beaac4002f036b9467c963"
  }
 },
 "cells": [
  {
   "cell_type": "markdown",
   "source": [
    "##asd"
   ],
   "metadata": {
    "id": "DayW-xfpWXnB"
   }
  },
  {
   "cell_type": "code",
   "execution_count": 1,
   "source": [
    "import requests\r\n",
    "import urllib.request\r\n",
    "import time\r\n",
    "import json\r\n",
    "from bs4 import BeautifulSoup\r\n",
    "import pandas as pd\r\n",
    "import re\r\n",
    "import numpy as np"
   ],
   "outputs": [],
   "metadata": {
    "id": "71hIh7kG0ltO",
    "executionInfo": {
     "status": "ok",
     "timestamp": 1628727629351,
     "user_tz": 180,
     "elapsed": 1211,
     "user": {
      "displayName": "Lucas Abbate",
      "photoUrl": "",
      "userId": "17716401745171302030"
     }
    }
   }
  },
  {
   "cell_type": "code",
   "execution_count": 2,
   "source": [
    "def get_link_pages(user):\r\n",
    "    pages = []\r\n",
    "    url = 'https://letterboxd.com/' + user + '/watchlist/by/rating/'\r\n",
    "    response = requests.get(url)\r\n",
    "    soup = BeautifulSoup(response.text, 'html.parser')\r\n",
    "    lis = soup('li', attrs={'class': 'paginate-page'})\r\n",
    "    for n in range(2, 10000):\r\n",
    "        try:\r\n",
    "            url = 'https://letterboxd.com/' + user + '/watchlist/by/rating/page/' + str(n)\r\n",
    "            response = requests.get(url)\r\n",
    "            page_soup = BeautifulSoup(response.text, 'html.parser')\r\n",
    "            poster_container = page_soup('li', attrs={'class': \"poster-container\"})\r\n",
    "            if poster_container:\r\n",
    "                pages.append(url)\r\n",
    "            else:\r\n",
    "                break\r\n",
    "        except:\r\n",
    "            break\r\n",
    "    return pages\r\n",
    "\r\n",
    "\r\n",
    "\r\n",
    "def ObtenerURLs(users):\r\n",
    "    urls = []\r\n",
    "    for user in users:\r\n",
    "        pages = []\r\n",
    "        url = 'https://letterboxd.com/' + user + '/watchlist/by/rating/'\r\n",
    "        pages.append(url)\r\n",
    "        added_pages = get_link_pages(user)\r\n",
    "        for page in added_pages:\r\n",
    "            pages.append(page)\r\n",
    "        urls.append(pages)\r\n",
    "\r\n",
    "    urls_dict = {}\r\n",
    "    for user in users:\r\n",
    "        n = users.index(user)\r\n",
    "        urls_dict[user] = urls[n]\r\n",
    "    return urls_dict\r\n",
    "    #     values = {}\r\n",
    "    #     values['URLs'] = pages\r\n",
    "    #     data[user] = values\r\n",
    "    # return data\r\n",
    "    \r\n",
    "def ObtenerPelis(urls_dict):\r\n",
    "    all_films = {}\r\n",
    "    for user, links in urls_dict.items():\r\n",
    "        values = []\r\n",
    "        for link in links:\r\n",
    "            response = requests.get(link)\r\n",
    "            soup = BeautifulSoup(response.text, 'html.parser')\r\n",
    "            films = soup.findAll('img', attrs={'class': 'image'})\r\n",
    "            for item in films:\r\n",
    "                values.append(str(item['alt']).encode('utf-8').decode())\r\n",
    "        all_films[user] = values\r\n",
    "\r\n",
    "    return all_films\r\n",
    "\r\n",
    "\r\n",
    "def GenerarDataFrame(films): \r\n",
    "    df = pd.DataFrame()\r\n",
    "    for key, value in films.items():\r\n",
    "        col = pd.DataFrame(data=value, columns=['Pelis'], index=[key for x in range(len(value))])\r\n",
    "        df = df.append(col)\r\n",
    "    \r\n",
    "    # for user, col in df.iteritems():   \r\n",
    "    #     df[user].fillna('NO_MATCH', inplace=True)\r\n",
    "    return df\r\n",
    "\r\n"
   ],
   "outputs": [],
   "metadata": {
    "id": "VS_4Azov9fLx",
    "executionInfo": {
     "status": "ok",
     "timestamp": 1628727635935,
     "user_tz": 180,
     "elapsed": 293,
     "user": {
      "displayName": "Lucas Abbate",
      "photoUrl": "",
      "userId": "17716401745171302030"
     }
    }
   }
  },
  {
   "cell_type": "code",
   "execution_count": 3,
   "source": [
    "users = ['lukigol', 'teficapriata', 'anablasi']\r\n",
    "urls = ObtenerURLs(users)"
   ],
   "outputs": [],
   "metadata": {}
  },
  {
   "cell_type": "code",
   "execution_count": 4,
   "source": [
    "films = ObtenerPelis(urls)"
   ],
   "outputs": [],
   "metadata": {
    "id": "gWbb0vFx61gI",
    "executionInfo": {
     "status": "ok",
     "timestamp": 1628727655134,
     "user_tz": 180,
     "elapsed": 13678,
     "user": {
      "displayName": "Lucas Abbate",
      "photoUrl": "",
      "userId": "17716401745171302030"
     }
    }
   }
  },
  {
   "cell_type": "code",
   "execution_count": 5,
   "source": [
    "df = GenerarDataFrame(films)"
   ],
   "outputs": [],
   "metadata": {}
  },
  {
   "cell_type": "code",
   "execution_count": 6,
   "source": [
    "duplics_col = df[df.duplicated(keep=False)]\r\n",
    "\r\n",
    "#duplics_col = duplics_col.groupby(list(duplics_col)).apply(lambda x: tuple(x.index)).tolist()\r\n",
    "df1 = (duplics_col.groupby(duplics_col.columns.tolist())\r\n",
    "       .apply(lambda x: tuple(x.index))\r\n",
    "       .reset_index(name='users'))\r\n",
    "print(df1)"
   ],
   "outputs": [
    {
     "output_type": "stream",
     "name": "stdout",
     "text": [
      "                             Pelis                              users\n",
      "0                  American Psycho           (teficapriata, anablasi)\n",
      "1                       Collective           (teficapriata, anablasi)\n",
      "2                          Cruella            (lukigol, teficapriata)\n",
      "3                 Django Unchained           (teficapriata, anablasi)\n",
      "4                       GoodFellas           (teficapriata, anablasi)\n",
      "5           Grave of the Fireflies            (lukigol, teficapriata)\n",
      "6                     Isle of Dogs                (lukigol, anablasi)\n",
      "7                          Memento                (lukigol, anablasi)\n",
      "8                  Nightmare Alley            (lukigol, teficapriata)\n",
      "9                     Perfect Blue            (lukigol, teficapriata)\n",
      "10      Portrait of a Lady on Fire            (lukigol, teficapriata)\n",
      "11             Requiem for a Dream            (lukigol, teficapriata)\n",
      "12                        Scarface           (teficapriata, anablasi)\n",
      "13                   The Big Short                (lukigol, anablasi)\n",
      "14                    The Farewell  (lukigol, teficapriata, anablasi)\n",
      "15  The Good, the Bad and the Ugly           (teficapriata, anablasi)\n",
      "16        The Shawshank Redemption           (teficapriata, anablasi)\n",
      "17                        Wildlife           (teficapriata, anablasi)\n",
      "18                Zero Dark Thirty                (lukigol, anablasi)\n",
      "19                          Zodiac  (lukigol, teficapriata, anablasi)\n"
     ]
    }
   ],
   "metadata": {
    "colab": {
     "base_uri": "https://localhost:8080/"
    },
    "id": "xQBW-0tv0FL4",
    "executionInfo": {
     "status": "ok",
     "timestamp": 1628727668923,
     "user_tz": 180,
     "elapsed": 274,
     "user": {
      "displayName": "Lucas Abbate",
      "photoUrl": "",
      "userId": "17716401745171302030"
     }
    },
    "outputId": "62e896ed-bdfb-4a1c-adbe-56038a40f015"
   }
  },
  {
   "cell_type": "code",
   "execution_count": 7,
   "source": [
    "df1['length'] = df1['users'].str.len()\r\n",
    "df1.sort_values('length', ascending=False, inplace=True)\r\n",
    "df1"
   ],
   "outputs": [
    {
     "output_type": "execute_result",
     "data": {
      "text/html": [
       "<div>\n",
       "<style scoped>\n",
       "    .dataframe tbody tr th:only-of-type {\n",
       "        vertical-align: middle;\n",
       "    }\n",
       "\n",
       "    .dataframe tbody tr th {\n",
       "        vertical-align: top;\n",
       "    }\n",
       "\n",
       "    .dataframe thead th {\n",
       "        text-align: right;\n",
       "    }\n",
       "</style>\n",
       "<table border=\"1\" class=\"dataframe\">\n",
       "  <thead>\n",
       "    <tr style=\"text-align: right;\">\n",
       "      <th></th>\n",
       "      <th>Pelis</th>\n",
       "      <th>users</th>\n",
       "      <th>length</th>\n",
       "    </tr>\n",
       "  </thead>\n",
       "  <tbody>\n",
       "    <tr>\n",
       "      <th>19</th>\n",
       "      <td>Zodiac</td>\n",
       "      <td>(lukigol, teficapriata, anablasi)</td>\n",
       "      <td>3</td>\n",
       "    </tr>\n",
       "    <tr>\n",
       "      <th>14</th>\n",
       "      <td>The Farewell</td>\n",
       "      <td>(lukigol, teficapriata, anablasi)</td>\n",
       "      <td>3</td>\n",
       "    </tr>\n",
       "    <tr>\n",
       "      <th>1</th>\n",
       "      <td>Collective</td>\n",
       "      <td>(teficapriata, anablasi)</td>\n",
       "      <td>2</td>\n",
       "    </tr>\n",
       "    <tr>\n",
       "      <th>18</th>\n",
       "      <td>Zero Dark Thirty</td>\n",
       "      <td>(lukigol, anablasi)</td>\n",
       "      <td>2</td>\n",
       "    </tr>\n",
       "    <tr>\n",
       "      <th>17</th>\n",
       "      <td>Wildlife</td>\n",
       "      <td>(teficapriata, anablasi)</td>\n",
       "      <td>2</td>\n",
       "    </tr>\n",
       "    <tr>\n",
       "      <th>16</th>\n",
       "      <td>The Shawshank Redemption</td>\n",
       "      <td>(teficapriata, anablasi)</td>\n",
       "      <td>2</td>\n",
       "    </tr>\n",
       "    <tr>\n",
       "      <th>15</th>\n",
       "      <td>The Good, the Bad and the Ugly</td>\n",
       "      <td>(teficapriata, anablasi)</td>\n",
       "      <td>2</td>\n",
       "    </tr>\n",
       "    <tr>\n",
       "      <th>13</th>\n",
       "      <td>The Big Short</td>\n",
       "      <td>(lukigol, anablasi)</td>\n",
       "      <td>2</td>\n",
       "    </tr>\n",
       "    <tr>\n",
       "      <th>12</th>\n",
       "      <td>Scarface</td>\n",
       "      <td>(teficapriata, anablasi)</td>\n",
       "      <td>2</td>\n",
       "    </tr>\n",
       "    <tr>\n",
       "      <th>11</th>\n",
       "      <td>Requiem for a Dream</td>\n",
       "      <td>(lukigol, teficapriata)</td>\n",
       "      <td>2</td>\n",
       "    </tr>\n",
       "    <tr>\n",
       "      <th>0</th>\n",
       "      <td>American Psycho</td>\n",
       "      <td>(teficapriata, anablasi)</td>\n",
       "      <td>2</td>\n",
       "    </tr>\n",
       "    <tr>\n",
       "      <th>9</th>\n",
       "      <td>Perfect Blue</td>\n",
       "      <td>(lukigol, teficapriata)</td>\n",
       "      <td>2</td>\n",
       "    </tr>\n",
       "    <tr>\n",
       "      <th>8</th>\n",
       "      <td>Nightmare Alley</td>\n",
       "      <td>(lukigol, teficapriata)</td>\n",
       "      <td>2</td>\n",
       "    </tr>\n",
       "    <tr>\n",
       "      <th>7</th>\n",
       "      <td>Memento</td>\n",
       "      <td>(lukigol, anablasi)</td>\n",
       "      <td>2</td>\n",
       "    </tr>\n",
       "    <tr>\n",
       "      <th>6</th>\n",
       "      <td>Isle of Dogs</td>\n",
       "      <td>(lukigol, anablasi)</td>\n",
       "      <td>2</td>\n",
       "    </tr>\n",
       "    <tr>\n",
       "      <th>5</th>\n",
       "      <td>Grave of the Fireflies</td>\n",
       "      <td>(lukigol, teficapriata)</td>\n",
       "      <td>2</td>\n",
       "    </tr>\n",
       "    <tr>\n",
       "      <th>4</th>\n",
       "      <td>GoodFellas</td>\n",
       "      <td>(teficapriata, anablasi)</td>\n",
       "      <td>2</td>\n",
       "    </tr>\n",
       "    <tr>\n",
       "      <th>3</th>\n",
       "      <td>Django Unchained</td>\n",
       "      <td>(teficapriata, anablasi)</td>\n",
       "      <td>2</td>\n",
       "    </tr>\n",
       "    <tr>\n",
       "      <th>2</th>\n",
       "      <td>Cruella</td>\n",
       "      <td>(lukigol, teficapriata)</td>\n",
       "      <td>2</td>\n",
       "    </tr>\n",
       "    <tr>\n",
       "      <th>10</th>\n",
       "      <td>Portrait of a Lady on Fire</td>\n",
       "      <td>(lukigol, teficapriata)</td>\n",
       "      <td>2</td>\n",
       "    </tr>\n",
       "  </tbody>\n",
       "</table>\n",
       "</div>"
      ],
      "text/plain": [
       "                             Pelis                              users  length\n",
       "19                          Zodiac  (lukigol, teficapriata, anablasi)       3\n",
       "14                    The Farewell  (lukigol, teficapriata, anablasi)       3\n",
       "1                       Collective           (teficapriata, anablasi)       2\n",
       "18                Zero Dark Thirty                (lukigol, anablasi)       2\n",
       "17                        Wildlife           (teficapriata, anablasi)       2\n",
       "16        The Shawshank Redemption           (teficapriata, anablasi)       2\n",
       "15  The Good, the Bad and the Ugly           (teficapriata, anablasi)       2\n",
       "13                   The Big Short                (lukigol, anablasi)       2\n",
       "12                        Scarface           (teficapriata, anablasi)       2\n",
       "11             Requiem for a Dream            (lukigol, teficapriata)       2\n",
       "0                  American Psycho           (teficapriata, anablasi)       2\n",
       "9                     Perfect Blue            (lukigol, teficapriata)       2\n",
       "8                  Nightmare Alley            (lukigol, teficapriata)       2\n",
       "7                          Memento                (lukigol, anablasi)       2\n",
       "6                     Isle of Dogs                (lukigol, anablasi)       2\n",
       "5           Grave of the Fireflies            (lukigol, teficapriata)       2\n",
       "4                       GoodFellas           (teficapriata, anablasi)       2\n",
       "3                 Django Unchained           (teficapriata, anablasi)       2\n",
       "2                          Cruella            (lukigol, teficapriata)       2\n",
       "10      Portrait of a Lady on Fire            (lukigol, teficapriata)       2"
      ]
     },
     "metadata": {},
     "execution_count": 7
    }
   ],
   "metadata": {}
  },
  {
   "cell_type": "code",
   "execution_count": 8,
   "source": [
    "unique_vals = df1['users'].unique()\r\n",
    "\r\n",
    "for val in unique_vals:\r\n",
    "    movies = df1[df1['users']==val]['Pelis']\r\n",
    "    if len(val)==len(users):\r\n",
    "        print('Las pelis que quieren ver todes son:\\n'+ movies.to_string(index=False)+'\\n--------------------------')\r\n",
    "    else:\r\n",
    "        print(f'Las pelis que quieren ver {str(val)[1:-1]} son:\\n' + movies.to_string(index=False)+'\\n----------------------')"
   ],
   "outputs": [
    {
     "output_type": "stream",
     "name": "stdout",
     "text": [
      "Las pelis que quieren ver todes son:\n",
      "      Zodiac\n",
      "The Farewell\n",
      "--------------------------\n",
      "Las pelis que quieren ver 'teficapriata', 'anablasi' son:\n",
      "                    Collective\n",
      "                      Wildlife\n",
      "      The Shawshank Redemption\n",
      "The Good, the Bad and the Ugly\n",
      "                      Scarface\n",
      "               American Psycho\n",
      "                    GoodFellas\n",
      "              Django Unchained\n",
      "----------------------\n",
      "Las pelis que quieren ver 'lukigol', 'anablasi' son:\n",
      "Zero Dark Thirty\n",
      "   The Big Short\n",
      "         Memento\n",
      "    Isle of Dogs\n",
      "----------------------\n",
      "Las pelis que quieren ver 'lukigol', 'teficapriata' son:\n",
      "       Requiem for a Dream\n",
      "              Perfect Blue\n",
      "           Nightmare Alley\n",
      "    Grave of the Fireflies\n",
      "                   Cruella\n",
      "Portrait of a Lady on Fire\n",
      "----------------------\n"
     ]
    }
   ],
   "metadata": {}
  },
  {
   "cell_type": "code",
   "execution_count": null,
   "source": [],
   "outputs": [],
   "metadata": {}
  }
 ]
}